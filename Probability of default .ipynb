{
 "cells": [
  {
   "cell_type": "markdown",
   "metadata": {
    "id": "NbqnB_V8N915"
   },
   "source": [
    "<b>Задание:</b> Необходиом разработать модель предсказания дефолта. Даны финансовые данные 32 395 компаний (выручка, активы, пассивы и т.д). Результат будет оцениваться на скрытой выборке из 200 компаний по метрике качества accuracy_score\n",
    "\n",
    "\n",
    "<b>Метрика качества</b> accuracy_score вычисляется, как ( True positive + True negative ) / Total."
   ]
  },
  {
   "cell_type": "markdown",
   "metadata": {},
   "source": [
    "## Ник vladislareon \n",
    "#### Лучший результат 0.645."
   ]
  },
  {
   "cell_type": "markdown",
   "metadata": {
    "id": "EJ9_SMqyN916"
   },
   "source": [
    "### Импортируем библиотеки"
   ]
  },
  {
   "cell_type": "code",
   "execution_count": 149,
   "metadata": {
    "id": "Vo4g-4Y5N917"
   },
   "outputs": [],
   "source": [
    "import pandas as pd\n",
    "from sklearn.metrics import f1_score\n",
    "from matplotlib import pyplot as plt\n",
    "import seaborn as sns\n",
    "from sklearn.preprocessing import StandardScaler\n",
    "from sklearn.model_selection import cross_val_score\n",
    "from sklearn.model_selection import train_test_split\n",
    "from sklearn.linear_model import LogisticRegression\n",
    "from sklearn.metrics import accuracy_score\n",
    "from catboost import CatBoostClassifier\n",
    "from sklearn.metrics import average_precision_score\n",
    "from sklearn.metrics import roc_auc_score\n",
    "from sklearn.model_selection import GridSearchCV\n",
    "from sklearn.base import BaseEstimator\n",
    "from sklearn.base import TransformerMixin\n",
    "from sklearn.compose import ColumnTransformer\n",
    "from sklearn.preprocessing import OneHotEncoder\n",
    "from sklearn.preprocessing import LabelEncoder\n"
   ]
  },
  {
   "cell_type": "markdown",
   "metadata": {
    "id": "4k8ndBMHN92A"
   },
   "source": [
    "### Подгружаем данные"
   ]
  },
  {
   "cell_type": "code",
   "execution_count": 2,
   "metadata": {
    "colab": {
     "base_uri": "https://localhost:8080/"
    },
    "id": "p6h2C5cJN92B",
    "outputId": "e7ab754c-2516-4842-86e9-8ea5577c9158"
   },
   "outputs": [
    {
     "name": "stderr",
     "output_type": "stream",
     "text": [
      "--2022-04-29 15:57:08--  https://raw.githubusercontent.com/BKHV/risk_models/master/data/PD-data-train.csv\n",
      "Resolving raw.githubusercontent.com (raw.githubusercontent.com)... 185.199.110.133, 185.199.111.133, 185.199.108.133, ...\n",
      "Connecting to raw.githubusercontent.com (raw.githubusercontent.com)|185.199.110.133|:443... connected.\n",
      "HTTP request sent, awaiting response... 200 OK\n",
      "Length: 5329268 (5.1M) [text/plain]\n",
      "Saving to: вЂ�PD-data-train.csvвЂ™\n",
      "\n",
      "     0K .......... .......... .......... .......... ..........  0% 1.26M 4s\n",
      "    50K .......... .......... .......... .......... ..........  1% 1.15M 4s\n",
      "   100K .......... .......... .......... .......... ..........  2% 1.68M 4s\n",
      "   150K .......... .......... .......... .......... ..........  3% 1.68M 3s\n",
      "   200K .......... .......... .......... .......... ..........  4% 1.82M 3s\n",
      "   250K .......... .......... .......... .......... ..........  5% 1.83M 3s\n",
      "   300K .......... .......... .......... .......... ..........  6% 1.87M 3s\n",
      "   350K .......... .......... .......... .......... ..........  7% 1.56M 3s\n",
      "   400K .......... .......... .......... .......... ..........  8%  779K 3s\n",
      "   450K .......... .......... .......... .......... ..........  9% 4.02M 3s\n",
      "   500K .......... .......... .......... .......... .......... 10% 1.15M 3s\n",
      "   550K .......... .......... .......... .......... .......... 11% 1.58M 3s\n",
      "   600K .......... .......... .......... .......... .......... 12% 2.31M 3s\n",
      "   650K .......... .......... .......... .......... .......... 13% 2.10M 3s\n",
      "   700K .......... .......... .......... .......... .......... 14% 2.40M 3s\n",
      "   750K .......... .......... .......... .......... .......... 15% 2.36M 3s\n",
      "   800K .......... .......... .......... .......... .......... 16% 2.33M 3s\n",
      "   850K .......... .......... .......... .......... .......... 17% 1.84M 3s\n",
      "   900K .......... .......... .......... .......... .......... 18% 2.80M 2s\n",
      "   950K .......... .......... .......... .......... .......... 19% 2.38M 2s\n",
      "  1000K .......... .......... .......... .......... .......... 20% 1.77M 2s\n",
      "  1050K .......... .......... .......... .......... .......... 21%  808K 2s\n",
      "  1100K .......... .......... .......... .......... .......... 22% 5.31M 2s\n",
      "  1150K .......... .......... .......... .......... .......... 23% 5.88M 2s\n",
      "  1200K .......... .......... .......... .......... .......... 24% 6.07M 2s\n",
      "  1250K .......... .......... .......... .......... .......... 24% 2.02M 2s\n",
      "  1300K .......... .......... .......... .......... .......... 25% 1.81M 2s\n",
      "  1350K .......... .......... .......... .......... .......... 26% 2.10M 2s\n",
      "  1400K .......... .......... .......... .......... .......... 27% 1.88M 2s\n",
      "  1450K .......... .......... .......... .......... .......... 28% 2.10M 2s\n",
      "  1500K .......... .......... .......... .......... .......... 29% 1.99M 2s\n",
      "  1550K .......... .......... .......... .......... .......... 30% 2.21M 2s\n",
      "  1600K .......... .......... .......... .......... .......... 31% 1.90M 2s\n",
      "  1650K .......... .......... .......... .......... .......... 32% 1.59M 2s\n",
      "  1700K .......... .......... .......... .......... .......... 33% 2.43M 2s\n",
      "  1750K .......... .......... .......... .......... .......... 34% 1.87M 2s\n",
      "  1800K .......... .......... .......... .......... .......... 35% 2.57M 2s\n",
      "  1850K .......... .......... .......... .......... .......... 36% 1.77M 2s\n",
      "  1900K .......... .......... .......... .......... .......... 37% 2.38M 2s\n",
      "  1950K .......... .......... .......... .......... .......... 38% 1.79M 2s\n",
      "  2000K .......... .......... .......... .......... .......... 39% 2.96M 2s\n",
      "  2050K .......... .......... .......... .......... .......... 40% 1.61M 2s\n",
      "  2100K .......... .......... .......... .......... .......... 41% 2.36M 2s\n",
      "  2150K .......... .......... .......... .......... .......... 42% 2.06M 2s\n",
      "  2200K .......... .......... .......... .......... .......... 43% 2.32M 2s\n",
      "  2250K .......... .......... .......... .......... .......... 44% 2.06M 2s\n",
      "  2300K .......... .......... .......... .......... .......... 45% 2.26M 1s\n",
      "  2350K .......... .......... .......... .......... .......... 46% 2.05M 1s\n",
      "  2400K .......... .......... .......... .......... .......... 47% 2.67M 1s\n",
      "  2450K .......... .......... .......... .......... .......... 48% 1.73M 1s\n",
      "  2500K .......... .......... .......... .......... .......... 48% 2.60M 1s\n",
      "  2550K .......... .......... .......... .......... .......... 49% 2.26M 1s\n",
      "  2600K .......... .......... .......... .......... .......... 50% 2.48M 1s\n",
      "  2650K .......... .......... .......... .......... .......... 51% 2.11M 1s\n",
      "  2700K .......... .......... .......... .......... .......... 52% 2.56M 1s\n",
      "  2750K .......... .......... .......... .......... .......... 53% 2.21M 1s\n",
      "  2800K .......... .......... .......... .......... .......... 54% 2.62M 1s\n",
      "  2850K .......... .......... .......... .......... .......... 55% 1.70M 1s\n",
      "  2900K .......... .......... .......... .......... .......... 56% 2.92M 1s\n",
      "  2950K .......... .......... .......... .......... .......... 57% 2.14M 1s\n",
      "  3000K .......... .......... .......... .......... .......... 58% 2.73M 1s\n",
      "  3050K .......... .......... .......... .......... .......... 59% 1.74M 1s\n",
      "  3100K .......... .......... .......... .......... .......... 60% 3.16M 1s\n",
      "  3150K .......... .......... .......... .......... .......... 61% 2.06M 1s\n",
      "  3200K .......... .......... .......... .......... .......... 62% 2.89M 1s\n",
      "  3250K .......... .......... .......... .......... .......... 63% 1.78M 1s\n",
      "  3300K .......... .......... .......... .......... .......... 64% 2.88M 1s\n",
      "  3350K .......... .......... .......... .......... .......... 65% 1.62M 1s\n",
      "  3400K .......... .......... .......... .......... .......... 66% 2.70M 1s\n",
      "  3450K .......... .......... .......... .......... .......... 67% 1.92M 1s\n",
      "  3500K .......... .......... .......... .......... .......... 68% 2.77M 1s\n",
      "  3550K .......... .......... .......... .......... .......... 69% 1.87M 1s\n",
      "  3600K .......... .......... .......... .......... .......... 70% 3.69M 1s\n",
      "  3650K .......... .......... .......... .......... .......... 71% 1.72M 1s\n",
      "  3700K .......... .......... .......... .......... .......... 72% 2.53M 1s\n",
      "  3750K .......... .......... .......... .......... .......... 73% 2.47M 1s\n",
      "  3800K .......... .......... .......... .......... .......... 73% 3.07M 1s\n",
      "  3850K .......... .......... .......... .......... .......... 74% 1.83M 1s\n",
      "  3900K .......... .......... .......... .......... .......... 75% 3.17M 1s\n",
      "  3950K .......... .......... .......... .......... .......... 76% 2.29M 1s\n",
      "  4000K .......... .......... .......... .......... .......... 77% 2.60M 1s\n",
      "  4050K .......... .......... .......... .......... .......... 78% 1.91M 1s\n",
      "  4100K .......... .......... .......... .......... .......... 79% 2.87M 1s\n",
      "  4150K .......... .......... .......... .......... .......... 80% 2.69M 0s\n",
      "  4200K .......... .......... .......... .......... .......... 81% 2.48M 0s\n",
      "  4250K .......... .......... .......... .......... .......... 82% 2.43M 0s\n",
      "  4300K .......... .......... .......... .......... .......... 83% 2.06M 0s\n",
      "  4350K .......... .......... .......... .......... .......... 84% 2.73M 0s\n",
      "  4400K .......... .......... .......... .......... .......... 85% 2.07M 0s\n",
      "  4450K .......... .......... .......... .......... .......... 86% 2.05M 0s\n",
      "  4500K .......... .......... .......... .......... .......... 87% 2.91M 0s\n",
      "  4550K .......... .......... .......... .......... .......... 88% 2.13M 0s\n",
      "  4600K .......... .......... .......... .......... .......... 89% 3.06M 0s\n",
      "  4650K .......... .......... .......... .......... .......... 90% 2.01M 0s\n",
      "  4700K .......... .......... .......... .......... .......... 91% 2.08M 0s\n",
      "  4750K .......... .......... .......... .......... .......... 92% 3.16M 0s\n",
      "  4800K .......... .......... .......... .......... .......... 93% 2.35M 0s\n",
      "  4850K .......... .......... .......... .......... .......... 94% 1.43M 0s\n",
      "  4900K .......... .......... .......... .......... .......... 95% 2.71M 0s\n",
      "  4950K .......... .......... .......... .......... .......... 96% 3.39M 0s\n",
      "  5000K .......... .......... .......... .......... .......... 97% 2.08M 0s\n",
      "  5050K .......... .......... .......... .......... .......... 97% 2.26M 0s\n",
      "  5100K .......... .......... .......... .......... .......... 98% 2.82M 0s\n",
      "  5150K .......... .......... .......... .......... .......... 99% 1.95M 0s\n",
      "  5200K ....                                                  100% 2.38M=2.4s\n",
      "\n",
      "2022-04-29 15:57:11 (2.10 MB/s) - вЂ�PD-data-train.csvвЂ™ saved [5329268/5329268]\n",
      "\n",
      "--2022-04-29 15:57:11--  https://raw.githubusercontent.com/BKHV/risk_models/master/data/PD-data-test.csv\n",
      "Resolving raw.githubusercontent.com (raw.githubusercontent.com)... 185.199.110.133, 185.199.111.133, 185.199.108.133, ...\n",
      "Connecting to raw.githubusercontent.com (raw.githubusercontent.com)|185.199.110.133|:443... connected.\n",
      "HTTP request sent, awaiting response... 200 OK\n",
      "Length: 28259 (28K) [text/plain]\n",
      "Saving to: вЂ�PD-data-test.csvвЂ™\n",
      "\n",
      "     0K .......... .......... .......                         100% 1.06M=0.03s\n",
      "\n",
      "2022-04-29 15:57:12 (1.06 MB/s) - вЂ�PD-data-test.csvвЂ™ saved [28259/28259]\n",
      "\n",
      "--2022-04-29 15:57:12--  https://raw.githubusercontent.com/BKHV/risk_models/master/data/PD-data-desc.csv\n",
      "Resolving raw.githubusercontent.com (raw.githubusercontent.com)... 185.199.110.133, 185.199.111.133, 185.199.108.133, ...\n",
      "Connecting to raw.githubusercontent.com (raw.githubusercontent.com)|185.199.110.133|:443... connected.\n",
      "HTTP request sent, awaiting response... 200 OK\n",
      "Length: 4835 (4.7K) [text/plain]\n",
      "Saving to: вЂ�PD-data-desc.csvвЂ™\n",
      "\n",
      "     0K ....                                                  100%  314K=0.02s\n",
      "\n",
      "2022-04-29 15:57:12 (314 KB/s) - вЂ�PD-data-desc.csvвЂ™ saved [4835/4835]\n",
      "\n"
     ]
    }
   ],
   "source": [
    "%%bash\n",
    "\n",
    "wget https://raw.githubusercontent.com/BKHV/risk_models/master/data/PD-data-train.csv\n",
    "wget https://raw.githubusercontent.com/BKHV/risk_models/master/data/PD-data-test.csv\n",
    "wget https://raw.githubusercontent.com/BKHV/risk_models/master/data/PD-data-desc.csv"
   ]
  },
  {
   "cell_type": "code",
   "execution_count": 2,
   "metadata": {
    "id": "XwbL4T6rN92G"
   },
   "outputs": [],
   "source": [
    "train_df = pd.read_csv('PD-data-train.csv', sep=';')\n",
    "test_df = pd.read_csv('PD-data-test.csv', sep=';')\n",
    "desc_df = pd.read_csv('PD-data-desc.csv', sep=';')"
   ]
  },
  {
   "cell_type": "markdown",
   "metadata": {
    "id": "PQgDXmx-QPs_"
   },
   "source": [
    "Описание данных"
   ]
  },
  {
   "cell_type": "markdown",
   "metadata": {
    "id": "H06Wcg09N92N"
   },
   "source": [
    "Количество разных типов фичей"
   ]
  },
  {
   "cell_type": "code",
   "execution_count": 3,
   "metadata": {
    "colab": {
     "base_uri": "https://localhost:8080/",
     "height": 82
    },
    "id": "cYOxzyvLN92O",
    "outputId": "8d0185c7-5342-4f91-c287-1dc422fa1b55"
   },
   "outputs": [
    {
     "data": {
      "text/plain": [
       "float64    25\n",
       "int64      11\n",
       "object      1\n",
       "dtype: int64"
      ]
     },
     "execution_count": 3,
     "metadata": {},
     "output_type": "execute_result"
    }
   ],
   "source": [
    "train_df.dtypes.value_counts()"
   ]
  },
  {
   "cell_type": "markdown",
   "metadata": {
    "id": "f8ZLAgMeN92R"
   },
   "source": [
    "Уровень дефолт-рейта в выборке = 6,7219%"
   ]
  },
  {
   "cell_type": "code",
   "execution_count": 4,
   "metadata": {
    "colab": {
     "base_uri": "https://localhost:8080/",
     "height": 33
    },
    "id": "LTHNGVxTN92S",
    "outputId": "0235aafa-033e-432e-99ef-08326f1880a1"
   },
   "outputs": [
    {
     "data": {
      "text/plain": [
       "0.06454699799351751"
      ]
     },
     "execution_count": 4,
     "metadata": {},
     "output_type": "execute_result"
    }
   ],
   "source": [
    "train_df['default_12m'].values.mean()"
   ]
  },
  {
   "cell_type": "code",
   "execution_count": 5,
   "metadata": {
    "colab": {
     "base_uri": "https://localhost:8080/",
     "height": 33
    },
    "id": "47MrTU_xN92X",
    "outputId": "f759ebbb-4ae4-4732-ab21-136a0c530ef3"
   },
   "outputs": [
    {
     "data": {
      "text/plain": [
       "32395"
      ]
     },
     "execution_count": 5,
     "metadata": {},
     "output_type": "execute_result"
    }
   ],
   "source": [
    "train_df.record_id.nunique()"
   ]
  },
  {
   "cell_type": "markdown",
   "metadata": {
    "id": "vo_LbDC0N92a"
   },
   "source": [
    "32395 уникальных наблюдений"
   ]
  },
  {
   "cell_type": "code",
   "execution_count": 6,
   "metadata": {},
   "outputs": [
    {
     "data": {
      "text/plain": [
       "Index(['record_id', 'ar_revenue', 'ar_total_expenses', 'ar_sale_cost',\n",
       "       'ar_selling_expenses', 'ar_management_expenses', 'ar_sale_profit',\n",
       "       'ar_balance_of_rvns_and_expns', 'ar_profit_before_tax', 'ar_taxes',\n",
       "       'ar_other_profit_and_losses', 'ar_net_profit', 'ab_immobilized_assets',\n",
       "       'ab_mobile_current_assets', 'ab_inventory', 'ab_accounts_receivable',\n",
       "       'ab_other_current_assets', 'ab_cash_and_securities', 'ab_losses',\n",
       "       'ab_own_capital', 'ab_borrowed_capital', 'ab_long_term_liabilities',\n",
       "       'ab_short_term_borrowing', 'ab_accounts_payable', 'ab_other_borrowings',\n",
       "       'bus_age', 'ogrn_age', 'adr_actual_age', 'head_actual_age',\n",
       "       'cap_actual_age', 'ul_staff_range', 'ul_capital_sum', 'ul_founders_cnt',\n",
       "       'ul_branch_cnt', 'ul_strategic_flg', 'ul_systematizing_flg',\n",
       "       'default_12m'],\n",
       "      dtype='object')"
      ]
     },
     "execution_count": 6,
     "metadata": {},
     "output_type": "execute_result"
    }
   ],
   "source": [
    "train_df.columns"
   ]
  },
  {
   "cell_type": "markdown",
   "metadata": {},
   "source": [
    "### Заполним пропуски средними значениями признаков.\n",
    "### Эксперементы  с заполнением нулями показывали худший результат."
   ]
  },
  {
   "cell_type": "code",
   "execution_count": 7,
   "metadata": {},
   "outputs": [
    {
     "name": "stderr",
     "output_type": "stream",
     "text": [
      "C:\\Users\\vladi\\AppData\\Local\\Temp/ipykernel_9012/528861120.py:1: FutureWarning: Dropping of nuisance columns in DataFrame reductions (with 'numeric_only=None') is deprecated; in a future version this will raise TypeError.  Select only valid columns before calling the reduction.\n",
      "  train_df_clear = train_df.fillna(train_df.mean())\n"
     ]
    }
   ],
   "source": [
    "train_df_clear = train_df.fillna(train_df.mean())"
   ]
  },
  {
   "cell_type": "markdown",
   "metadata": {},
   "source": [
    "### Удалим признак, состоящий исключительно из 0:"
   ]
  },
  {
   "cell_type": "code",
   "execution_count": 8,
   "metadata": {},
   "outputs": [],
   "source": [
    "train_df_clear.drop(['ul_systematizing_flg'], axis=1, inplace= True)"
   ]
  },
  {
   "cell_type": "code",
   "execution_count": 9,
   "metadata": {},
   "outputs": [
    {
     "name": "stderr",
     "output_type": "stream",
     "text": [
      "C:\\Users\\vladi\\AppData\\Local\\Temp/ipykernel_9012/3333363208.py:1: FutureWarning: Dropping of nuisance columns in DataFrame reductions (with 'numeric_only=None') is deprecated; in a future version this will raise TypeError.  Select only valid columns before calling the reduction.\n",
      "  test_df_clear = test_df.fillna(test_df.mean())\n"
     ]
    }
   ],
   "source": [
    "test_df_clear = test_df.fillna(test_df.mean())\n",
    "test_df_clear.drop(['ul_systematizing_flg'], axis=1, inplace= True)"
   ]
  },
  {
   "cell_type": "code",
   "execution_count": 13,
   "metadata": {},
   "outputs": [
    {
     "name": "stderr",
     "output_type": "stream",
     "text": [
      "D:\\conda\\lib\\site-packages\\pandas\\core\\frame.py:4906: SettingWithCopyWarning: \n",
      "A value is trying to be set on a copy of a slice from a DataFrame\n",
      "\n",
      "See the caveats in the documentation: https://pandas.pydata.org/pandas-docs/stable/user_guide/indexing.html#returning-a-view-versus-a-copy\n",
      "  return super().drop(\n"
     ]
    }
   ],
   "source": [
    "train_df_clear_new = train_df.dropna()\n",
    "train_df_clear_new.drop(['ul_systematizing_flg'], axis=1, inplace= True)"
   ]
  },
  {
   "cell_type": "code",
   "execution_count": 148,
   "metadata": {},
   "outputs": [
    {
     "data": {
      "text/plain": [
       "record_id                      -0.002880\n",
       "ar_revenue                     -0.036943\n",
       "ar_total_expenses              -0.034928\n",
       "ar_sale_cost                   -0.035301\n",
       "ar_selling_expenses            -0.012747\n",
       "ar_management_expenses         -0.005908\n",
       "ar_sale_profit                 -0.021720\n",
       "ar_balance_of_rvns_and_expns    0.003369\n",
       "ar_profit_before_tax           -0.020708\n",
       "ar_taxes                       -0.027337\n",
       "ar_other_profit_and_losses     -0.007286\n",
       "ar_net_profit                  -0.019033\n",
       "ab_immobilized_assets          -0.016554\n",
       "ab_mobile_current_assets       -0.026648\n",
       "ab_inventory                   -0.025796\n",
       "ab_accounts_receivable         -0.017590\n",
       "ab_other_current_assets        -0.005771\n",
       "ab_cash_and_securities         -0.010921\n",
       "ab_losses                      -0.035023\n",
       "ab_own_capital                 -0.038136\n",
       "ab_borrowed_capital            -0.015753\n",
       "ab_long_term_liabilities       -0.003993\n",
       "ab_short_term_borrowing        -0.007287\n",
       "ab_accounts_payable            -0.016237\n",
       "ab_other_borrowings            -0.007151\n",
       "bus_age                        -0.109389\n",
       "ogrn_age                       -0.121140\n",
       "adr_actual_age                 -0.055146\n",
       "head_actual_age                -0.055146\n",
       "cap_actual_age                 -0.055146\n",
       "ul_capital_sum                 -0.019452\n",
       "ul_founders_cnt                -0.023244\n",
       "ul_branch_cnt                  -0.014410\n",
       "ul_strategic_flg               -0.002528\n",
       "default_12m                     1.000000\n",
       "Name: default_12m, dtype: float64"
      ]
     },
     "execution_count": 148,
     "metadata": {},
     "output_type": "execute_result"
    }
   ],
   "source": [
    "train_df_clear.corr()['default_12m']"
   ]
  },
  {
   "cell_type": "code",
   "execution_count": 15,
   "metadata": {
    "scrolled": false
   },
   "outputs": [
    {
     "data": {
      "text/plain": [
       "[1-100]      29281\n",
       "(100-500]     2757\n",
       "> 500          357\n",
       "Name: ul_staff_range, dtype: int64"
      ]
     },
     "execution_count": 15,
     "metadata": {},
     "output_type": "execute_result"
    }
   ],
   "source": [
    "train_df['ul_staff_range'].value_counts()"
   ]
  },
  {
   "cell_type": "markdown",
   "metadata": {},
   "source": [
    "### В силу того, что признаки без пропусков имеют больщую корреляцию с таргетом, обучим 2 классификатора, соответственно для объектов без пропусков и для объектов с пропусками, но только с полными признаками:\n",
    "\n",
    "**Идея показала не лучшие результаты.**"
   ]
  },
  {
   "cell_type": "code",
   "execution_count": 17,
   "metadata": {},
   "outputs": [],
   "source": [
    "good_columns = train_df.dropna(axis=1).columns.drop('default_12m')\n",
    "bad_columns = list(set(train_df.columns) - set(good_columns))"
   ]
  },
  {
   "cell_type": "code",
   "execution_count": 350,
   "metadata": {},
   "outputs": [],
   "source": [
    "X_train, X_test, y_train, y_test = train_test_split(train_df.drop('default_12m', axis=1),\n",
    "                                                    train_df['default_12m'],\n",
    "                                                    random_state=42, shuffle=True)\n",
    "full_index_train = list(set(X_train.index) & set(train_df.dropna().index))\n",
    "full_index_test = list(set(X_test.index) & set(test_df.dropna().index))\n",
    "\n",
    "null_index_train = list(set(X_train.index) - set(full_index_train))\n",
    "null_index_test = list(set(X_test.index) - set(full_index_test))"
   ]
  },
  {
   "cell_type": "code",
   "execution_count": 351,
   "metadata": {},
   "outputs": [],
   "source": [
    "X_train_full, y_train_full = X_train.loc[full_index_train], y_train.loc[full_index_train]\n",
    "X_test_full, y_test_full = X_test.loc[full_index_test], y_test.loc[full_index_test]\n",
    "\n",
    "X_train_null, y_train_null = X_train.loc[null_index_train, good_columns], y_train.loc[null_index_train]\n",
    "X_test_null, y_test_null = X_test.loc[null_index_test, good_columns], y_test.loc[null_index_test]"
   ]
  },
  {
   "cell_type": "code",
   "execution_count": 352,
   "metadata": {},
   "outputs": [],
   "source": [
    "column_transformer = ColumnTransformer([\n",
    "    ('ohe',  OneHotEncoder(handle_unknown=\"ignore\"), ['ul_staff_range'])\n",
    "], remainder='passthrough')\n",
    "X_train_full =column_transformer.fit_transform(X_train_full)\n",
    "X_test_full=column_transformer.fit_transform(X_test_full)\n",
    "X_train_null =column_transformer.fit_transform(X_train_null)\n",
    "X_test_null=column_transformer.fit_transform(X_test_null)"
   ]
  },
  {
   "cell_type": "code",
   "execution_count": 353,
   "metadata": {},
   "outputs": [],
   "source": [
    "model = CatBoostClassifier( **{'logging_level' : 'Silent'})\n",
    "model.fit(X_train_full, y_train_full)\n",
    "preds_full = model.predict_proba(X_test_full)"
   ]
  },
  {
   "cell_type": "code",
   "execution_count": 354,
   "metadata": {},
   "outputs": [],
   "source": [
    "model = CatBoostClassifier( **{'logging_level' : 'Silent'})\n",
    "model.fit(X_train_null, y_train_null)\n",
    "preds_null = model.predict_proba(X_test_null)"
   ]
  },
  {
   "cell_type": "code",
   "execution_count": 355,
   "metadata": {},
   "outputs": [
    {
     "data": {
      "text/plain": [
       "0.6658264245295433"
      ]
     },
     "execution_count": 355,
     "metadata": {},
     "output_type": "execute_result"
    }
   ],
   "source": [
    "preds = y_test.copy()\n",
    "preds[full_index_test] = preds_full[:, 1]\n",
    "preds[null_index_test] = preds_null[:, 1]\n",
    "roc_auc_score(y_test, preds)"
   ]
  },
  {
   "cell_type": "code",
   "execution_count": 21,
   "metadata": {},
   "outputs": [
    {
     "data": {
      "text/plain": [
       "0    30304\n",
       "1     2091\n",
       "Name: default_12m, dtype: int64"
      ]
     },
     "execution_count": 21,
     "metadata": {},
     "output_type": "execute_result"
    }
   ],
   "source": [
    "X = train_df_clear.drop('default_12m', axis=1)\n",
    "y = train_df_clear['default_12m']\n",
    "column_transformer = ColumnTransformer([\n",
    "    ('ohe',  OneHotEncoder(handle_unknown=\"ignore\"), ['ul_staff_range'])\n",
    "], remainder='passthrough')\n",
    "X = column_transformer.fit_transform(X)\n",
    "y.value_counts()"
   ]
  },
  {
   "cell_type": "markdown",
   "metadata": {},
   "source": [
    "### В силу несбаланированности таргета сделаем оверсэмплинг при помощи библиотеки ```SMOTE```.\n",
    "\n",
    "**Эксперимент оказался неудачным на тестовых данных.**"
   ]
  },
  {
   "cell_type": "code",
   "execution_count": 22,
   "metadata": {},
   "outputs": [],
   "source": [
    "from imblearn.over_sampling import SMOTE\n",
    "oversample = SMOTE()\n",
    "X, y = oversample.fit_resample(X, y)"
   ]
  },
  {
   "cell_type": "code",
   "execution_count": 23,
   "metadata": {},
   "outputs": [
    {
     "data": {
      "text/plain": [
       "0    30304\n",
       "1    30304\n",
       "Name: default_12m, dtype: int64"
      ]
     },
     "execution_count": 23,
     "metadata": {},
     "output_type": "execute_result"
    }
   ],
   "source": [
    "y.value_counts()"
   ]
  },
  {
   "cell_type": "code",
   "execution_count": 25,
   "metadata": {},
   "outputs": [],
   "source": [
    "X_train, X_test, y_train, y_test = train_test_split(X,\n",
    "                                                    y,\n",
    "                                                    random_state=42, shuffle=True, stratify=y)"
   ]
  },
  {
   "cell_type": "code",
   "execution_count": 49,
   "metadata": {},
   "outputs": [],
   "source": [
    "best_feat = pd.DataFrame()\n",
    "best_feat['ind'] = X_train.shape[1] * [0]\n",
    "for i in range(X_train.shape[1]):\n",
    "    best_feat['ind'].iloc[i] = t(X_train[:, i], y_train)\n",
    "best_feat = list(best_feat.sort_values(by = 'ind', ascending=False).head(32).index)\n",
    "tr =  Best_weight(best_feat)\n",
    "X_train_lr = tr.transform(X_train)\n",
    "X_test_lr = tr.transform(X_test)"
   ]
  },
  {
   "cell_type": "code",
   "execution_count": 50,
   "metadata": {},
   "outputs": [
    {
     "data": {
      "text/plain": [
       "0.9832665647729895"
      ]
     },
     "execution_count": 50,
     "metadata": {},
     "output_type": "execute_result"
    }
   ],
   "source": [
    "model = CatBoostClassifier( **{'logging_level' : 'Silent'})\n",
    "model.fit(X_train_lr, y_train)\n",
    "preds = model.predict_proba(X_test_lr)\n",
    "roc_auc_score(y_test, preds[:, 1])"
   ]
  },
  {
   "cell_type": "markdown",
   "metadata": {
    "id": "DjygjQIM8u4Y"
   },
   "source": [
    "### Валидация результата"
   ]
  },
  {
   "cell_type": "code",
   "execution_count": 157,
   "metadata": {
    "colab": {
     "base_uri": "https://localhost:8080/",
     "height": 33
    },
    "id": "NaH5PC4wN92n",
    "outputId": "5269e162-5799-4cad-e576-eecf0bf83ffc"
   },
   "outputs": [],
   "source": [
    "from sklearn.compose import ColumnTransformer\n",
    "from sklearn.preprocessing import OneHotEncoder\n",
    "from sklearn.preprocessing import LabelEncoder\n",
    "X_train, X_test, y_train, y_test = train_test_split(train_df_clear.drop('default_12m', axis=1),\n",
    "                                                    train_df_clear['default_12m'], shuffle=True, test_size=0.15,\n",
    "                                                   stratify= train_df_clear['default_12m'], random_state=142)\n",
    "\n",
    "column_transformer = ColumnTransformer([\n",
    "    ('ohe',  OneHotEncoder(handle_unknown=\"ignore\"), ['ul_staff_range'])\n",
    "], remainder='passthrough')\n",
    "X_train = column_transformer.fit_transform(X_train)\n",
    "X_test = column_transformer.fit_transform(X_test)"
   ]
  },
  {
   "cell_type": "markdown",
   "metadata": {},
   "source": [
    "### Отбор признаков с помощью линейной модели:"
   ]
  },
  {
   "cell_type": "code",
   "execution_count": 158,
   "metadata": {},
   "outputs": [],
   "source": [
    "lr = LogisticRegression(max_iter=100000).fit(X_train, y_train)"
   ]
  },
  {
   "cell_type": "code",
   "execution_count": 159,
   "metadata": {},
   "outputs": [],
   "source": [
    "modul = np.abs(lr.coef_)\n",
    "best_weight = list(pd.DataFrame(modul).T.sort_values(by = 0, ascending=False).head(32).index)"
   ]
  },
  {
   "cell_type": "code",
   "execution_count": 160,
   "metadata": {},
   "outputs": [],
   "source": [
    "class Best_weight():\n",
    "    def __init__(self, best_weight):\n",
    "        self.best_weight = best_weight\n",
    "    def fit(self, _data1, y=None):\n",
    "        return self\n",
    "    def transform(self, data1, y=None):\n",
    "        data = data1.copy()\n",
    "        data = data[:, self.best_weight]\n",
    "        return data   "
   ]
  },
  {
   "cell_type": "code",
   "execution_count": 161,
   "metadata": {},
   "outputs": [],
   "source": [
    "tr =  Best_weight(best_weight)\n",
    "X_train_lr = tr.transform(X_train)\n",
    "X_test_lr = tr.transform(X_test)"
   ]
  },
  {
   "cell_type": "code",
   "execution_count": 162,
   "metadata": {},
   "outputs": [
    {
     "name": "stdout",
     "output_type": "stream",
     "text": [
      "0.71836443321069\n"
     ]
    }
   ],
   "source": [
    "model = CatBoostClassifier( **{'logging_level' : 'Silent'})\n",
    "model.fit(X_train_lr, y_train)\n",
    "preds = model.predict_proba(X_test_lr)\n",
    "print(roc_auc_score(y_test, preds[:, 1]))"
   ]
  },
  {
   "cell_type": "markdown",
   "metadata": {},
   "source": [
    "### Методы фильтрации:"
   ]
  },
  {
   "cell_type": "code",
   "execution_count": 163,
   "metadata": {},
   "outputs": [],
   "source": [
    "def t(data1, y):\n",
    "    data = data1.copy()\n",
    "    mu_plus = data[y == 1].mean()\n",
    "    mu_minus = data[y == 0].mean()\n",
    "    sig_plus = data[y == 1].std()\n",
    "    sig_minus = data[y == 0].std()\n",
    "    n_plus = data[y == 1].shape[0]\n",
    "    n_minus = data[y == 0].shape[0]\n",
    "    return np.abs(mu_plus - mu_minus) / np.sqrt((n_plus * sig_plus ** 2 + n_minus * sig_minus ** 2) / (n_plus + n_minus))\n"
   ]
  },
  {
   "cell_type": "code",
   "execution_count": 164,
   "metadata": {},
   "outputs": [],
   "source": [
    "best_feat = pd.DataFrame()\n",
    "best_feat['ind'] = X_train.shape[1] * [0]\n",
    "for i in range(X_train.shape[1]):\n",
    "    best_feat['ind'].iloc[i] = t(X_train[:, i], y_train)\n",
    "\n",
    "best_feat = list(best_feat.sort_values(by = 'ind', ascending=False).head(32).index)"
   ]
  },
  {
   "cell_type": "code",
   "execution_count": 165,
   "metadata": {},
   "outputs": [],
   "source": [
    "tr =  Best_weight(best_feat)\n",
    "X_train_lr = tr.transform(X_train)\n",
    "X_test_lr = tr.transform(X_test)"
   ]
  },
  {
   "cell_type": "code",
   "execution_count": 167,
   "metadata": {},
   "outputs": [
    {
     "name": "stdout",
     "output_type": "stream",
     "text": [
      "0.7358624926792223\n"
     ]
    }
   ],
   "source": [
    "model = CatBoostClassifier(logging_level = 'Silent')\n",
    "model.fit(X_train_lr, y_train)\n",
    "preds = model.predict_proba(X_test_lr)\n",
    "print(roc_auc_score(y_test, preds[:, 1]))"
   ]
  },
  {
   "cell_type": "markdown",
   "metadata": {},
   "source": [
    "### Попробуем закодировать категориальный признак при помощи счетчиков:"
   ]
  },
  {
   "cell_type": "code",
   "execution_count": 33,
   "metadata": {},
   "outputs": [],
   "source": [
    "class Meantargetencoding_smoothing(BaseEstimator, TransformerMixin):\n",
    "    def __init__(self, categorical, C):\n",
    "        self.C = C\n",
    "        self.categorical = categorical\n",
    "    def fit(self, data, y):\n",
    "        self.mean_cat = {key: None for key in self.categorical}\n",
    "        data['y'] = y\n",
    "        for categoria in self.mean_cat:\n",
    "            self.mean_cat[categoria] = ((data.groupby(categoria)['y'].sum() +\n",
    "                                         self.C * data['y'].mean()) /\n",
    "                           (data.groupby(categoria)['y'].size() +\n",
    "                            self.C))\n",
    "        data.drop(columns=['y'], inplace=True)\n",
    "        return self\n",
    "    def transform(self, data1):\n",
    "        data = data1.copy()\n",
    "        for cat, tar in self.mean_cat.items():\n",
    "            data[cat].replace(tar, inplace=True)\n",
    "        return data   "
   ]
  },
  {
   "cell_type": "code",
   "execution_count": 34,
   "metadata": {},
   "outputs": [],
   "source": [
    "from sklearn.compose import ColumnTransformer\n",
    "from sklearn.preprocessing import OneHotEncoder\n",
    "X_train1, X_test1, y_train1, y_test1 = train_test_split(train_df_clear.drop('default_12m', axis=1),\n",
    "                                                    train_df_clear['default_12m'],\n",
    "                                                    random_state=42, shuffle=True)\n",
    "\n",
    "coder = Meantargetencoding_smoothing(['ul_staff_range'], 20).fit(X_train1, y_train1)\n",
    "X_test1 = coder.transform(X_test1)\n",
    "X_train1 = coder.transform(X_train1)"
   ]
  },
  {
   "cell_type": "code",
   "execution_count": 35,
   "metadata": {},
   "outputs": [
    {
     "data": {
      "text/plain": [
       "0.7089923674167653"
      ]
     },
     "execution_count": 35,
     "metadata": {},
     "output_type": "execute_result"
    }
   ],
   "source": [
    "model = CatBoostClassifier( **{'logging_level' : 'Silent'})\n",
    "model.fit(X_train1, y_train1)\n",
    "preds = model.predict_proba(X_test1)\n",
    "roc_auc_score(y_test1, preds[:, 1])"
   ]
  },
  {
   "cell_type": "markdown",
   "metadata": {},
   "source": [
    "# Самыми удачными решениями оказались:\n",
    "\n",
    "* Заполнение пропущенных значений средними значениями.\n",
    "\n",
    "* Использование ```OneHotEncoder``` на категориальном признаке.\n",
    "\n",
    "*  В силу раздутия признакового пространства отбор фичей после трансформаций при помощи  t-статистики.\n",
    "\n",
    "* Обучение градиентного бустинга ```Catboost``` (так как в тестовой выборке нет сильной несбалонсированности, перевзвешивание классов таргета с помощью ```auto_class_weights``` делало только хуже) и подбор гиперпараметров при помощи библиотеки ```optuna``` и метрики ```ROC-AUC``` (не смотря на несбалансированность классов использование ```AUC-PR``` показало худший результат).\n",
    "\n",
    "\n",
    "\n",
    "\n",
    "\n",
    "**Ник vladislareon**\n",
    "\n",
    "**Лучший результат 0.645**"
   ]
  },
  {
   "cell_type": "code",
   "execution_count": 101,
   "metadata": {},
   "outputs": [
    {
     "name": "stderr",
     "output_type": "stream",
     "text": [
      "\u001b[32m[I 2022-05-06 20:51:48,690]\u001b[0m A new study created in memory with name: no-name-f0e8d1fb-2217-483e-8920-b7f10948101d\u001b[0m\n",
      "\u001b[32m[I 2022-05-06 20:51:53,713]\u001b[0m Trial 0 finished with value: 0.7270467352834857 and parameters: {'iterations': 148, 'depth': 9, 'random_strength': 52, 'early_stopping_rounds': 131, 'bagging_temperature': 0.07550027026973584, 'learning_rate': 0.1443309479642427, 'od_type': 'Iter'}. Best is trial 0 with value: 0.7270467352834857.\u001b[0m\n",
      "\u001b[32m[I 2022-05-06 20:52:20,737]\u001b[0m Trial 1 finished with value: 0.712906776027641 and parameters: {'iterations': 81, 'depth': 12, 'random_strength': 38, 'early_stopping_rounds': 202, 'bagging_temperature': 30.158739776691572, 'learning_rate': 0.01975436880966701, 'od_type': 'Iter'}. Best is trial 0 with value: 0.7270467352834857.\u001b[0m\n",
      "\u001b[32m[I 2022-05-06 20:52:23,625]\u001b[0m Trial 2 finished with value: 0.7095111962360695 and parameters: {'iterations': 194, 'depth': 6, 'random_strength': 37, 'early_stopping_rounds': 25, 'bagging_temperature': 1.3638837167966686, 'learning_rate': 0.013412916982682647, 'od_type': 'IncToDec'}. Best is trial 0 with value: 0.7270467352834857.\u001b[0m\n",
      "\u001b[32m[I 2022-05-06 20:52:26,780]\u001b[0m Trial 3 finished with value: 0.7109571373728146 and parameters: {'iterations': 273, 'depth': 4, 'random_strength': 5, 'early_stopping_rounds': 269, 'bagging_temperature': 0.051579894758056175, 'learning_rate': 0.013226197029791284, 'od_type': 'IncToDec'}. Best is trial 0 with value: 0.7270467352834857.\u001b[0m\n",
      "\u001b[32m[I 2022-05-06 21:18:25,659]\u001b[0m Trial 4 finished with value: 0.7263374254962015 and parameters: {'iterations': 275, 'depth': 16, 'random_strength': 67, 'early_stopping_rounds': 276, 'bagging_temperature': 63.19699964696232, 'learning_rate': 0.051136075350212605, 'od_type': 'IncToDec'}. Best is trial 0 with value: 0.7270467352834857.\u001b[0m\n",
      "\u001b[32m[I 2022-05-06 21:18:28,437]\u001b[0m Trial 5 finished with value: 0.7209337108846302 and parameters: {'iterations': 94, 'depth': 6, 'random_strength': 60, 'early_stopping_rounds': 149, 'bagging_temperature': 9.48620130379186, 'learning_rate': 0.14388039985377993, 'od_type': 'Iter'}. Best is trial 0 with value: 0.7270467352834857.\u001b[0m\n",
      "\u001b[32m[I 2022-05-06 21:54:57,976]\u001b[0m Trial 6 finished with value: 0.7195784913453697 and parameters: {'iterations': 212, 'depth': 16, 'random_strength': 0, 'early_stopping_rounds': 15, 'bagging_temperature': 0.029106941571361747, 'learning_rate': 0.16740893592985756, 'od_type': 'Iter'}. Best is trial 0 with value: 0.7270467352834857.\u001b[0m\n",
      "\u001b[32m[I 2022-05-06 21:55:16,227]\u001b[0m Trial 7 finished with value: 0.7210419463040232 and parameters: {'iterations': 226, 'depth': 9, 'random_strength': 11, 'early_stopping_rounds': 169, 'bagging_temperature': 0.017727397225679516, 'learning_rate': 0.04313972586449955, 'od_type': 'Iter'}. Best is trial 0 with value: 0.7270467352834857.\u001b[0m\n",
      "\u001b[32m[I 2022-05-06 21:56:00,949]\u001b[0m Trial 8 finished with value: 0.7209722412928283 and parameters: {'iterations': 154, 'depth': 11, 'random_strength': 39, 'early_stopping_rounds': 24, 'bagging_temperature': 65.04302952093839, 'learning_rate': 0.032340988325864434, 'od_type': 'IncToDec'}. Best is trial 0 with value: 0.7270467352834857.\u001b[0m\n",
      "\u001b[32m[I 2022-05-06 21:56:09,836]\u001b[0m Trial 9 finished with value: 0.7188145384337319 and parameters: {'iterations': 180, 'depth': 8, 'random_strength': 33, 'early_stopping_rounds': 165, 'bagging_temperature': 98.82346813747698, 'learning_rate': 0.017302604388990523, 'od_type': 'IncToDec'}. Best is trial 0 with value: 0.7270467352834857.\u001b[0m\n",
      "\u001b[32m[I 2022-05-06 21:58:28,548]\u001b[0m Trial 10 finished with value: 0.7251696038513594 and parameters: {'iterations': 129, 'depth': 13, 'random_strength': 97, 'early_stopping_rounds': 77, 'bagging_temperature': 0.2238311036142172, 'learning_rate': 0.09065598460610123, 'od_type': 'Iter'}. Best is trial 0 with value: 0.7270467352834857.\u001b[0m\n",
      "\u001b[32m[I 2022-05-06 22:07:46,167]\u001b[0m Trial 11 finished with value: 0.7265927770196239 and parameters: {'iterations': 273, 'depth': 14, 'random_strength': 69, 'early_stopping_rounds': 273, 'bagging_temperature': 1.295651074505148, 'learning_rate': 0.08070173533552061, 'od_type': 'IncToDec'}. Best is trial 0 with value: 0.7270467352834857.\u001b[0m\n",
      "\u001b[32m[I 2022-05-06 22:12:22,854]\u001b[0m Trial 12 finished with value: 0.7193886415158843 and parameters: {'iterations': 137, 'depth': 14, 'random_strength': 81, 'early_stopping_rounds': 97, 'bagging_temperature': 1.0624192262657146, 'learning_rate': 0.10453661944844768, 'od_type': 'IncToDec'}. Best is trial 0 with value: 0.7270467352834857.\u001b[0m\n",
      "\u001b[32m[I 2022-05-06 22:12:31,798]\u001b[0m Trial 13 finished with value: 0.7185203062256733 and parameters: {'iterations': 51, 'depth': 10, 'random_strength': 72, 'early_stopping_rounds': 230, 'bagging_temperature': 0.2102636858409601, 'learning_rate': 0.07323182108901254, 'od_type': 'Iter'}. Best is trial 0 with value: 0.7270467352834857.\u001b[0m\n",
      "\u001b[32m[I 2022-05-06 22:21:20,355]\u001b[0m Trial 14 finished with value: 0.7246988323184658 and parameters: {'iterations': 242, 'depth': 14, 'random_strength': 55, 'early_stopping_rounds': 104, 'bagging_temperature': 5.266030143779261, 'learning_rate': 0.12331953312469145, 'od_type': 'Iter'}. Best is trial 0 with value: 0.7270467352834857.\u001b[0m\n",
      "\u001b[32m[I 2022-05-06 22:21:26,054]\u001b[0m Trial 15 finished with value: 0.7204590863109166 and parameters: {'iterations': 108, 'depth': 8, 'random_strength': 85, 'early_stopping_rounds': 203, 'bagging_temperature': 0.22451305884093944, 'learning_rate': 0.1982203461828402, 'od_type': 'IncToDec'}. Best is trial 0 with value: 0.7270467352834857.\u001b[0m\n",
      "\u001b[32m[I 2022-05-06 22:22:19,526]\u001b[0m Trial 16 finished with value: 0.7214065840761528 and parameters: {'iterations': 175, 'depth': 11, 'random_strength': 21, 'early_stopping_rounds': 129, 'bagging_temperature': 0.06722141054163341, 'learning_rate': 0.061565192949177255, 'od_type': 'IncToDec'}. Best is trial 0 with value: 0.7270467352834857.\u001b[0m\n",
      "\u001b[32m[I 2022-05-06 22:30:46,783]\u001b[0m Trial 17 finished with value: 0.7237100019335261 and parameters: {'iterations': 241, 'depth': 14, 'random_strength': 49, 'early_stopping_rounds': 63, 'bagging_temperature': 4.133363774853389, 'learning_rate': 0.08619667057995793, 'od_type': 'Iter'}. Best is trial 0 with value: 0.7270467352834857.\u001b[0m\n",
      "\u001b[32m[I 2022-05-06 22:30:51,931]\u001b[0m Trial 18 finished with value: 0.7142339734518481 and parameters: {'iterations': 154, 'depth': 7, 'random_strength': 74, 'early_stopping_rounds': 239, 'bagging_temperature': 0.5464156381710389, 'learning_rate': 0.029263921457801857, 'od_type': 'IncToDec'}. Best is trial 0 with value: 0.7270467352834857.\u001b[0m\n",
      "\u001b[32m[I 2022-05-06 22:31:25,666]\u001b[0m Trial 19 finished with value: 0.7311088911368853 and parameters: {'iterations': 205, 'depth': 10, 'random_strength': 99, 'early_stopping_rounds': 191, 'bagging_temperature': 0.010058972375556514, 'learning_rate': 0.11691153625536811, 'od_type': 'Iter'}. Best is trial 19 with value: 0.7311088911368853.\u001b[0m\n"
     ]
    }
   ],
   "source": [
    "import optuna\n",
    "def objective(trial):\n",
    "    params = {\n",
    "        'iterations' : trial.suggest_int('iterations', 50, 280),                         \n",
    "        'depth' : trial.suggest_int('depth', 4, 16),                                                      \n",
    "        'random_strength' :trial.suggest_int('random_strength', 0, 100),\n",
    "        'early_stopping_rounds': trial.suggest_int('early_stopping_rounds', 3, 280),\n",
    "        'bagging_temperature' :trial.suggest_loguniform('bagging_temperature', 0.01, 100.00),\n",
    "        'learning_rate' :trial.suggest_loguniform('learning_rate', 0.01, 0.2),\n",
    "        'od_type': trial.suggest_categorical('od_type', ['IncToDec', 'Iter'])\n",
    "    }\n",
    "    model = CatBoostClassifier( **{'logging_level' : 'Silent'}, **{**params})        \n",
    "    model.fit(X_train_lr, y_train)\n",
    "    preds = model.predict_proba(X_test_lr)\n",
    "    now_score = roc_auc_score(y_test, preds[:, 1])\n",
    "    return now_score\n",
    "study = optuna.create_study(direction = \"maximize\")\n",
    "study.optimize(objective, n_trials = int(20))"
   ]
  },
  {
   "cell_type": "code",
   "execution_count": 102,
   "metadata": {},
   "outputs": [
    {
     "data": {
      "text/plain": [
       "0.7311088911368853"
      ]
     },
     "execution_count": 102,
     "metadata": {},
     "output_type": "execute_result"
    }
   ],
   "source": [
    "from sklearn.metrics import accuracy_score\n",
    "model = CatBoostClassifier( **{'logging_level' : 'Silent'},**{**study.best_trial.params})\n",
    "model.fit(X_train_lr, y_train)\n",
    "preds = model.predict_proba(X_test_lr)\n",
    "roc_auc_score(y_test, preds[:, 1])"
   ]
  },
  {
   "cell_type": "code",
   "execution_count": 116,
   "metadata": {},
   "outputs": [],
   "source": [
    "cutoff = train_df_clear['default_12m'].mean()"
   ]
  },
  {
   "cell_type": "code",
   "execution_count": 119,
   "metadata": {},
   "outputs": [],
   "source": [
    "predict =  (model.predict_proba(X_test_lr)[:,1]>cutoff).astype(int)"
   ]
  },
  {
   "cell_type": "code",
   "execution_count": 112,
   "metadata": {},
   "outputs": [
    {
     "data": {
      "text/plain": [
       "0.6699588477366255"
      ]
     },
     "execution_count": 112,
     "metadata": {},
     "output_type": "execute_result"
    }
   ],
   "source": [
    "accuracy_score(y_test, predict)"
   ]
  },
  {
   "cell_type": "code",
   "execution_count": 153,
   "metadata": {},
   "outputs": [
    {
     "data": {
      "text/plain": [
       "0.7258845231292942"
      ]
     },
     "execution_count": 153,
     "metadata": {},
     "output_type": "execute_result"
    }
   ],
   "source": [
    "model = CatBoostClassifier( **{'logging_level' : 'Silent'})#,  **{'auto_class_weights' : 'Balanced'})\n",
    "model.fit(X_train, y_train)\n",
    "preds = model.predict_proba(X_test)\n",
    "roc_auc_score(y_test, preds[:, 1])"
   ]
  },
  {
   "cell_type": "markdown",
   "metadata": {
    "id": "JKsc2E3d8_ZN"
   },
   "source": [
    "### Построение модели на всех данных"
   ]
  },
  {
   "cell_type": "code",
   "execution_count": 121,
   "metadata": {},
   "outputs": [],
   "source": [
    "column_transformer = ColumnTransformer([\n",
    "    ('ohe', OneHotEncoder(handle_unknown=\"ignore\"), ['ul_staff_range'])\n",
    "], remainder='passthrough')\n",
    "X_train_all =column_transformer.fit_transform(train_df_clear.drop('default_12m', axis=1))\n",
    "X_test_all =column_transformer.fit_transform(test_df_clear)\n",
    "\n",
    "tr =  Best_weight(best_feat)\n",
    "X_train_all = tr.transform(X_train_all)\n",
    "X_test_all = tr.transform(X_test_all)\n"
   ]
  },
  {
   "cell_type": "code",
   "execution_count": 122,
   "metadata": {},
   "outputs": [
    {
     "data": {
      "text/plain": [
       "<catboost.core.CatBoostClassifier at 0x2df4cbdfc40>"
      ]
     },
     "execution_count": 122,
     "metadata": {},
     "output_type": "execute_result"
    }
   ],
   "source": [
    "model = CatBoostClassifier( **{'logging_level' : 'Silent'},**{**study.best_trial.params},  **{'auto_class_weights' : 'Balanced'})\n",
    "model.fit(X_train_all, train_df_clear['default_12m'])"
   ]
  },
  {
   "cell_type": "markdown",
   "metadata": {
    "id": "OQ1Y1r6E9bvN"
   },
   "source": [
    "### Формирование файла с ответом"
   ]
  },
  {
   "cell_type": "code",
   "execution_count": 129,
   "metadata": {
    "id": "_9YdWZm8-7k0"
   },
   "outputs": [],
   "source": [
    "answ_df = test_df[['record_id']]"
   ]
  },
  {
   "cell_type": "code",
   "execution_count": 130,
   "metadata": {
    "colab": {
     "base_uri": "https://localhost:8080/",
     "height": 115
    },
    "id": "RizmO5g4_wPO",
    "outputId": "1cf87965-5f56-4a89-f90e-572bcf5d3736"
   },
   "outputs": [
    {
     "name": "stderr",
     "output_type": "stream",
     "text": [
      "C:\\Users\\vladi\\AppData\\Local\\Temp/ipykernel_9012/3997193366.py:1: SettingWithCopyWarning: \n",
      "A value is trying to be set on a copy of a slice from a DataFrame.\n",
      "Try using .loc[row_indexer,col_indexer] = value instead\n",
      "\n",
      "See the caveats in the documentation: https://pandas.pydata.org/pandas-docs/stable/user_guide/indexing.html#returning-a-view-versus-a-copy\n",
      "  answ_df['id'] = answ_df['record_id']\n"
     ]
    }
   ],
   "source": [
    "answ_df['id'] = answ_df['record_id']"
   ]
  },
  {
   "cell_type": "code",
   "execution_count": 131,
   "metadata": {
    "colab": {
     "base_uri": "https://localhost:8080/",
     "height": 98
    },
    "id": "r7fiDf_l9igh",
    "outputId": "f29b6e54-12ee-4b9d-88f5-3b58036adc18"
   },
   "outputs": [
    {
     "name": "stderr",
     "output_type": "stream",
     "text": [
      "D:\\conda\\lib\\site-packages\\pandas\\core\\frame.py:4906: SettingWithCopyWarning: \n",
      "A value is trying to be set on a copy of a slice from a DataFrame\n",
      "\n",
      "See the caveats in the documentation: https://pandas.pydata.org/pandas-docs/stable/user_guide/indexing.html#returning-a-view-versus-a-copy\n",
      "  return super().drop(\n"
     ]
    }
   ],
   "source": [
    "answ_df.drop('record_id',axis=1, inplace=True)"
   ]
  },
  {
   "cell_type": "code",
   "execution_count": 132,
   "metadata": {
    "id": "ye8YVTYG90_6"
   },
   "outputs": [],
   "source": [
    "cutoff = train_df_clear['default_12m'].mean()"
   ]
  },
  {
   "cell_type": "code",
   "execution_count": 145,
   "metadata": {
    "colab": {
     "base_uri": "https://localhost:8080/",
     "height": 115
    },
    "id": "GtV2vm1o9tMF",
    "outputId": "271a9a2e-3fe6-4182-a75a-9cdb60029d6b"
   },
   "outputs": [
    {
     "name": "stderr",
     "output_type": "stream",
     "text": [
      "C:\\Users\\vladi\\AppData\\Local\\Temp/ipykernel_9012/3541171757.py:1: SettingWithCopyWarning: \n",
      "A value is trying to be set on a copy of a slice from a DataFrame.\n",
      "Try using .loc[row_indexer,col_indexer] = value instead\n",
      "\n",
      "See the caveats in the documentation: https://pandas.pydata.org/pandas-docs/stable/user_guide/indexing.html#returning-a-view-versus-a-copy\n",
      "  answ_df['predict'] = (model.predict_proba(X_test_all)[:,1]>cutoff + 0.3).astype(int)\n"
     ]
    }
   ],
   "source": [
    "answ_df['predict'] = (model.predict_proba(X_test_all)[:,1]>cutoff).astype(int)"
   ]
  },
  {
   "cell_type": "code",
   "execution_count": 147,
   "metadata": {
    "id": "BAet0WO6-A_5"
   },
   "outputs": [],
   "source": [
    "answ_df.to_csv('PD-submit15.csv',index=False, sep=';')"
   ]
  }
 ],
 "metadata": {
  "colab": {
   "collapsed_sections": [],
   "name": "PD_jun_ds",
   "provenance": [],
   "toc_visible": true
  },
  "kernelspec": {
   "display_name": "Python 3 (ipykernel)",
   "language": "python",
   "name": "python3"
  },
  "language_info": {
   "codemirror_mode": {
    "name": "ipython",
    "version": 3
   },
   "file_extension": ".py",
   "mimetype": "text/x-python",
   "name": "python",
   "nbconvert_exporter": "python",
   "pygments_lexer": "ipython3",
   "version": "3.9.7"
  },
  "varInspector": {
   "cols": {
    "lenName": 16,
    "lenType": 16,
    "lenVar": 40
   },
   "kernels_config": {
    "python": {
     "delete_cmd_postfix": "",
     "delete_cmd_prefix": "del ",
     "library": "var_list.py",
     "varRefreshCmd": "print(var_dic_list())"
    },
    "r": {
     "delete_cmd_postfix": ") ",
     "delete_cmd_prefix": "rm(",
     "library": "var_list.r",
     "varRefreshCmd": "cat(var_dic_list()) "
    }
   },
   "types_to_exclude": [
    "module",
    "function",
    "builtin_function_or_method",
    "instance",
    "_Feature"
   ],
   "window_display": false
  }
 },
 "nbformat": 4,
 "nbformat_minor": 1
}
